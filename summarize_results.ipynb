{
 "cells": [
  {
   "cell_type": "markdown",
   "id": "1935238b",
   "metadata": {},
   "source": [
    "## To compare copy number states obtained from gene and exon level analyses"
   ]
  },
  {
   "cell_type": "code",
   "execution_count": 2,
   "id": "04cac52d",
   "metadata": {},
   "outputs": [
    {
     "name": "stderr",
     "output_type": "stream",
     "text": [
      "<ipython-input-2-102b24062c89>:29: FutureWarning: The frame.append method is deprecated and will be removed from pandas in a future version. Use pandas.concat instead.\n",
      "  summary = summary.append(pd.DataFrame({\n",
      "<ipython-input-2-102b24062c89>:29: FutureWarning: The frame.append method is deprecated and will be removed from pandas in a future version. Use pandas.concat instead.\n",
      "  summary = summary.append(pd.DataFrame({\n",
      "<ipython-input-2-102b24062c89>:29: FutureWarning: The frame.append method is deprecated and will be removed from pandas in a future version. Use pandas.concat instead.\n",
      "  summary = summary.append(pd.DataFrame({\n"
     ]
    },
    {
     "name": "stdout",
     "output_type": "stream",
     "text": [
      "    clone  same_copy_number_genes  different_copy_number_genes\n",
      "0  clone0                    9211                         2252\n",
      "1  clone1                    8582                         2881\n",
      "2  clone2                    8866                         2597\n",
      "3  clone3                   11463                            0\n",
      "Genes with different copy numbers:\n",
      "[]\n"
     ]
    },
    {
     "name": "stderr",
     "output_type": "stream",
     "text": [
      "<ipython-input-2-102b24062c89>:29: FutureWarning: The frame.append method is deprecated and will be removed from pandas in a future version. Use pandas.concat instead.\n",
      "  summary = summary.append(pd.DataFrame({\n"
     ]
    }
   ],
   "source": [
    "#Summary of gene and exon data of HBC at K=3\n",
    "import pandas as pd\n",
    "\n",
    "# Define the column names\n",
    "columns = ['name', 'clone0', 'clone1', 'clone2', 'clone3']\n",
    "\n",
    "# Load the data\n",
    "gene_data = pd.read_csv('/work/FAC/FBM/DBC/cdessim2/default/amaurya/Outputs/STARCH_gene_outputs/HBC_starch_k3/states_starch_k3.csv', header=None, names=columns)\n",
    "exon_data = pd.read_csv('/work/FAC/FBM/DBC/cdessim2/default/amaurya/Outputs/STARCH_exon_outputs/HBC_starch_exon_k3/states_K3_exon.csv', header=None, names=columns)\n",
    "\n",
    "# Extract the gene name from the exon_name field\n",
    "exon_data['gene_name'] = exon_data['name'].apply(lambda x: x.split('|')[1])\n",
    "\n",
    "# Merge the two dataframes on gene_name\n",
    "merged_data = pd.merge(gene_data, exon_data, left_on='name', right_on='gene_name')\n",
    "\n",
    "# Initialize an empty dataframe to store the summary\n",
    "summary = pd.DataFrame()\n",
    "\n",
    "# For each clone, compare the gene and exon copy numbers\n",
    "for clone in ['clone0', 'clone1', 'clone2', 'clone3']:\n",
    "    # Group by gene_name and check if all exons have the same copy number\n",
    "    grouped = merged_data.groupby('gene_name').apply(lambda x: (x[clone+'_x'] == x[clone+'_y']).all())\n",
    "    \n",
    "    # Count the genes with same and different copy numbers\n",
    "    same_copy_number = grouped[grouped == True].count()\n",
    "    different_copy_number = grouped[grouped == False].count()\n",
    "    \n",
    "    # Append the results to the summary dataframe\n",
    "    summary = summary.append(pd.DataFrame({\n",
    "        'clone': clone,\n",
    "        'same_copy_number_genes': same_copy_number,\n",
    "        'different_copy_number_genes': different_copy_number\n",
    "    }, index=[0]), ignore_index=True)\n",
    "\n",
    "# Print the summary\n",
    "print(summary)\n",
    "\n",
    "# Print the list of genes with different copy numbers\n",
    "print(\"Genes with different copy numbers:\")\n",
    "print(grouped[grouped == False].index.tolist())\n"
   ]
  },
  {
   "cell_type": "code",
   "execution_count": 1,
   "id": "610f09cc",
   "metadata": {},
   "outputs": [
    {
     "name": "stderr",
     "output_type": "stream",
     "text": [
      "<ipython-input-1-5acc1d176094>:29: FutureWarning: The frame.append method is deprecated and will be removed from pandas in a future version. Use pandas.concat instead.\n",
      "  summary = summary.append(pd.DataFrame({\n",
      "<ipython-input-1-5acc1d176094>:29: FutureWarning: The frame.append method is deprecated and will be removed from pandas in a future version. Use pandas.concat instead.\n",
      "  summary = summary.append(pd.DataFrame({\n",
      "<ipython-input-1-5acc1d176094>:29: FutureWarning: The frame.append method is deprecated and will be removed from pandas in a future version. Use pandas.concat instead.\n",
      "  summary = summary.append(pd.DataFrame({\n"
     ]
    },
    {
     "name": "stdout",
     "output_type": "stream",
     "text": [
      "    clone  same_copy_number_genes  different_copy_number_genes\n",
      "0  clone0                    9951                         3363\n",
      "1  clone1                   10211                         3103\n",
      "2  clone2                   11228                         2086\n",
      "3  clone3                   13314                            0\n",
      "Genes with different copy numbers:\n",
      "[]\n"
     ]
    },
    {
     "name": "stderr",
     "output_type": "stream",
     "text": [
      "<ipython-input-1-5acc1d176094>:29: FutureWarning: The frame.append method is deprecated and will be removed from pandas in a future version. Use pandas.concat instead.\n",
      "  summary = summary.append(pd.DataFrame({\n"
     ]
    }
   ],
   "source": [
    "import pandas as pd\n",
    "\n",
    "# Define the column names\n",
    "columns = ['name', 'clone0', 'clone1', 'clone2', 'clone3']\n",
    "\n",
    "# Load the data\n",
    "gene_data = pd.read_csv('/work/FAC/FBM/DBC/cdessim2/default/amaurya/Outputs/STARCH_gene_outputs/Melanoma_starch_k3/states_starch_k3.csv', header=None, names=columns)\n",
    "exon_data = pd.read_csv('/work/FAC/FBM/DBC/cdessim2/default/amaurya/Outputs/STARCH_exon_outputs/Melanoma_starch_exon_k3/col_rearrange_states_starch_k3.csv', header=None, names=columns)\n",
    "\n",
    "# Extract the gene name from the exon_name field\n",
    "exon_data['gene_name'] = exon_data['name'].apply(lambda x: x.split('|')[1])\n",
    "\n",
    "# Merge the two dataframes on gene_name\n",
    "merged_data = pd.merge(gene_data, exon_data, left_on='name', right_on='gene_name')\n",
    "\n",
    "# Initialize an empty dataframe to store the summary\n",
    "summary = pd.DataFrame()\n",
    "\n",
    "# For each clone, compare the gene and exon copy numbers\n",
    "for clone in ['clone0', 'clone1', 'clone2', 'clone3']:\n",
    "    # Group by gene_name and check if all exons have the same copy number\n",
    "    grouped = merged_data.groupby('gene_name').apply(lambda x: (x[clone+'_x'] == x[clone+'_y']).all())\n",
    "    \n",
    "    # Count the genes with same and different copy numbers\n",
    "    same_copy_number = grouped[grouped == True].count()\n",
    "    different_copy_number = grouped[grouped == False].count()\n",
    "    \n",
    "    # Append the results to the summary dataframe\n",
    "    summary = summary.append(pd.DataFrame({\n",
    "        'clone': clone,\n",
    "        'same_copy_number_genes': same_copy_number,\n",
    "        'different_copy_number_genes': different_copy_number\n",
    "    }, index=[0]), ignore_index=True)\n",
    "\n",
    "# Print the summary\n",
    "print(summary)\n",
    "\n",
    "# Print the list of genes with different copy numbers\n",
    "print(\"Genes with different copy numbers:\")\n",
    "print(grouped[grouped == False].index.tolist())\n"
   ]
  },
  {
   "cell_type": "code",
   "execution_count": null,
   "id": "8533aa7b",
   "metadata": {},
   "outputs": [],
   "source": []
  },
  {
   "cell_type": "code",
   "execution_count": null,
   "id": "97bebec8",
   "metadata": {},
   "outputs": [],
   "source": []
  },
  {
   "cell_type": "markdown",
   "id": "9974353a",
   "metadata": {},
   "source": [
    "### To count the no. of genes in exon data output"
   ]
  },
  {
   "cell_type": "code",
   "execution_count": 4,
   "id": "c56ee9ef",
   "metadata": {},
   "outputs": [
    {
     "name": "stdout",
     "output_type": "stream",
     "text": [
      "Deletion events: 2560\n",
      "Neutral events: 8442\n",
      "Duplication events: 431\n",
      "Mixed events: 108\n"
     ]
    }
   ],
   "source": [
    "#The following code is to find how many exons are associated with the genes (using the exon id we created).\n",
    "\n",
    "import csv\n",
    "from collections import defaultdict\n",
    "\n",
    "# Read the CSV file\n",
    "file_path = '/work/FAC/FBM/DBC/cdessim2/default/amaurya/Outputs/STARCH_exon_outputs/HBC_starch_exon_k3/subclone0.csv'  # replace with your actual file path\n",
    "data = defaultdict(list)\n",
    "\n",
    "with open(file_path, 'r') as file:\n",
    "    reader = csv.reader(file)\n",
    "    for row in reader:\n",
    "        exon_name, copy_number = row\n",
    "        gene = exon_name.split('|')[1]\n",
    "        data[gene].append(int(copy_number))\n",
    "\n",
    "# Define functions to check event types\n",
    "def is_deletion(events):\n",
    "    return all(event == 0 for event in events)\n",
    "\n",
    "def is_neutral(events):\n",
    "    return all(event == 1 for event in events)\n",
    "\n",
    "def is_duplication(events):\n",
    "    return all(event == 2 for event in events)\n",
    "\n",
    "def is_mixed(events):\n",
    "    return len(set(events)) > 1\n",
    "\n",
    "# Count events for each gene\n",
    "deletion_count = neutral_count = duplication_count = mixed_count = 0\n",
    "\n",
    "for gene, events in data.items():\n",
    "    if is_deletion(events):\n",
    "        deletion_count += 1\n",
    "    elif is_neutral(events):\n",
    "        neutral_count += 1\n",
    "    elif is_duplication(events):\n",
    "        duplication_count += 1\n",
    "    elif is_mixed(events):\n",
    "        mixed_count += 1\n",
    "\n",
    "# Print the results\n",
    "print(f\"Deletion events: {deletion_count}\")\n",
    "print(f\"Neutral events: {neutral_count}\")\n",
    "print(f\"Duplication events: {duplication_count}\")\n",
    "print(f\"Mixed events: {mixed_count}\")"
   ]
  },
  {
   "cell_type": "code",
   "execution_count": 11,
   "id": "0597741b",
   "metadata": {},
   "outputs": [
    {
     "name": "stdout",
     "output_type": "stream",
     "text": [
      "Deletion events: 4262\n",
      "Neutral events: 7546\n",
      "Duplication events: 1486\n",
      "Mixed events: 131\n"
     ]
    }
   ],
   "source": [
    "import csv\n",
    "from collections import defaultdict\n",
    "\n",
    "# Read the CSV file\n",
    "file_path = '/work/FAC/FBM/DBC/cdessim2/default/amaurya/Outputs/STARCH_exon_outputs/Melanoma_starch_exon_k3/subclone2.csv'  # replace with your actual file path\n",
    "data = defaultdict(list)\n",
    "\n",
    "with open(file_path, 'r') as file:\n",
    "    reader = csv.reader(file)\n",
    "    for row in reader:\n",
    "        exon_name, copy_number = row\n",
    "        gene = exon_name.split('|')[1]\n",
    "        data[gene].append(int(copy_number))\n",
    "\n",
    "# Define functions to check event types\n",
    "def is_deletion(events):\n",
    "    return all(event == 0 for event in events)\n",
    "\n",
    "def is_neutral(events):\n",
    "    return all(event == 1 for event in events)\n",
    "\n",
    "def is_duplication(events):\n",
    "    return all(event == 2 for event in events)\n",
    "\n",
    "def is_mixed(events):\n",
    "    return len(set(events)) > 1\n",
    "\n",
    "# Count events for each gene\n",
    "deletion_count = neutral_count = duplication_count = mixed_count = 0\n",
    "\n",
    "for gene, events in data.items():\n",
    "    if is_deletion(events):\n",
    "        deletion_count += 1\n",
    "    elif is_neutral(events):\n",
    "        neutral_count += 1\n",
    "    elif is_duplication(events):\n",
    "        duplication_count += 1\n",
    "    elif is_mixed(events):\n",
    "        mixed_count += 1\n",
    "\n",
    "# Print the results\n",
    "print(f\"Deletion events: {deletion_count}\")\n",
    "print(f\"Neutral events: {neutral_count}\")\n",
    "print(f\"Duplication events: {duplication_count}\")\n",
    "print(f\"Mixed events: {mixed_count}\")"
   ]
  },
  {
   "cell_type": "code",
   "execution_count": null,
   "id": "a23110c1",
   "metadata": {},
   "outputs": [],
   "source": []
  }
 ],
 "metadata": {
  "kernelspec": {
   "display_name": "Python 3",
   "language": "python",
   "name": "python3"
  },
  "language_info": {
   "codemirror_mode": {
    "name": "ipython",
    "version": 3
   },
   "file_extension": ".py",
   "mimetype": "text/x-python",
   "name": "python",
   "nbconvert_exporter": "python",
   "pygments_lexer": "ipython3",
   "version": "3.9.15"
  }
 },
 "nbformat": 4,
 "nbformat_minor": 5
}
