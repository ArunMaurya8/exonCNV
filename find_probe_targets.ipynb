{
 "cells": [
  {
   "cell_type": "markdown",
   "id": "74142d56",
   "metadata": {},
   "source": [
    "# Finding exons targeted by probes"
   ]
  },
  {
   "cell_type": "code",
   "execution_count": null,
   "id": "beddbbc0",
   "metadata": {},
   "outputs": [],
   "source": [
    "#The file \"exons_in_filt_probes\" contains 261185 lines\n",
    "#NOTE: these exons belong to all tx (53817) and genes (18085) present in the filtered probes list (sp+unsp)\n",
    "#Now, we want to see out of these exons, which ones are targeted by probes"
   ]
  },
  {
   "cell_type": "markdown",
   "id": "fdaf3482",
   "metadata": {},
   "source": [
    "## A. To check for the exons targeted by spliced probes"
   ]
  },
  {
   "cell_type": "code",
   "execution_count": 8,
   "id": "5ec11033",
   "metadata": {},
   "outputs": [],
   "source": [
    "#SPLICED PROBES (which span exon-exon junction; can target more than one exon)\n",
    "#Most spliced probes target two exons\n",
    "#Some spliced probes target more than two exons for example: eac38ce"
   ]
  },
  {
   "cell_type": "markdown",
   "id": "110e6909",
   "metadata": {},
   "source": [
    "### A.1 Spliced probes that overlap two exons"
   ]
  },
  {
   "cell_type": "code",
   "execution_count": null,
   "id": "4d695062",
   "metadata": {},
   "outputs": [],
   "source": [
    "#Goal is to find which probe target which two consecutive exons. For this:\n",
    "# 1. First, for a probe check if probe_id till first instance of \"|\" matches exon_id till first instance of \"|\"\n",
    "# 2. If it matches then check probe coordinates and coordinates of pairs of exons\n",
    "# 3. For that probe and those two consecutive exons check the following condition:\n",
    "# exon1_Start <= probe_Start <= exon1_End and exon2_Start <= probe_End <= exon2_End\n",
    "\n",
    "#If it is true save the probe_id and those two exon_ids in a new output file. Do this for all probes."
   ]
  },
  {
   "cell_type": "code",
   "execution_count": null,
   "id": "6cbcf5b7",
   "metadata": {},
   "outputs": [],
   "source": []
  },
  {
   "cell_type": "code",
   "execution_count": null,
   "id": "834fc6cb",
   "metadata": {},
   "outputs": [],
   "source": [
    "#the chunk below creates a list of filtered spliced probes (7477) that target two pairs of exons instead of consecutive"
   ]
  },
  {
   "cell_type": "code",
   "execution_count": 3,
   "id": "7a3a94eb",
   "metadata": {},
   "outputs": [],
   "source": [
    "# Define a function to extract the gene IDs from probe_id and exon_id\n",
    "def extract_gene_id(id_string):\n",
    "    return id_string.split('|')[0]\n",
    "\n",
    "# Read exon data and organize it by gene ID\n",
    "exon_data_by_gene = {}\n",
    "with open('/work/FAC/FBM/DBC/cdessim2/default/amaurya/Exons/exons_in_filt_probes', 'r') as exon_file:\n",
    "    for line in exon_file:\n",
    "        chromosome, exon_start, exon_end, exon_id = line.strip().split('\\t')\n",
    "        exon_gene_id = extract_gene_id(exon_id)\n",
    "        exon_start, exon_end = int(exon_start), int(exon_end)\n",
    "\n",
    "        if exon_gene_id in exon_data_by_gene:\n",
    "            exon_data_by_gene[exon_gene_id].append((exon_id, exon_start, exon_end))\n",
    "        else:\n",
    "            exon_data_by_gene[exon_gene_id] = [(exon_id, exon_start, exon_end)]\n",
    "\n",
    "# Open the probe file for reading\n",
    "with open('/work/FAC/FBM/DBC/cdessim2/default/amaurya/Exons/filtered_spliced_probes.tsv', 'r') as probe_file:\n",
    "    probe_lines = probe_file.readlines()\n",
    "\n",
    "# Create a dictionary to store probe information with exon_ids\n",
    "probe_data = {}\n",
    "\n",
    "# Iterate through probe data\n",
    "for probe_line in probe_lines:\n",
    "    probe_id, probe_start, probe_end = probe_line.strip().split('\\t')\n",
    "    probe_gene_id = extract_gene_id(probe_id)\n",
    "    probe_start, probe_end = int(probe_start), int(probe_end)\n",
    "\n",
    "    # Create a list to store exon_ids for the current probe\n",
    "    exon_ids = set()\n",
    "\n",
    "    # Check if the gene ID exists in exon data\n",
    "    if probe_gene_id in exon_data_by_gene:\n",
    "        exon_gene_data = exon_data_by_gene[probe_gene_id]\n",
    "\n",
    "        # Iterate through exons associated with the same gene ID\n",
    "        for i in range(len(exon_gene_data)):\n",
    "            for j in range(i + 1, len(exon_gene_data)):\n",
    "                exon_id1, exon_start1, exon_end1 = exon_gene_data[i]\n",
    "                exon_id2, exon_start2, exon_end2 = exon_gene_data[j]\n",
    "\n",
    "                if (exon_start1 <= probe_start <= exon_end1 and exon_start2 <= probe_end <= exon_end2) or \\\n",
    "                   (exon_start2 <= probe_start <= exon_end2 and exon_start1 <= probe_end <= exon_end1):\n",
    "                    exon_ids.add(exon_id1)\n",
    "                    exon_ids.add(exon_id2)\n",
    "\n",
    "    # Add the exon_ids to the probe_data dictionary\n",
    "    if exon_ids:\n",
    "        probe_data[probe_id] = list(exon_ids)\n",
    "\n",
    "# Create an output file to save the results\n",
    "output_file = open('/work/FAC/FBM/DBC/cdessim2/default/amaurya/Exons/filt_sp_probes_targeting_2_exons', 'w')\n",
    "\n",
    "# Write the merged probe and exon data to the output file\n",
    "for probe_id, exon_ids in probe_data.items():\n",
    "    exon_ids_str = '\\t'.join(exon_ids)\n",
    "    output_file.write(f'{probe_id}\\t{exon_ids_str}\\n')\n",
    "\n",
    "output_file.close()"
   ]
  },
  {
   "cell_type": "code",
   "execution_count": null,
   "id": "4e4b4092",
   "metadata": {},
   "outputs": [],
   "source": []
  },
  {
   "cell_type": "markdown",
   "id": "f734346a",
   "metadata": {},
   "source": [
    "### A.2 Spliced probes that overlap three exons"
   ]
  },
  {
   "cell_type": "code",
   "execution_count": null,
   "id": "bcf426b9",
   "metadata": {},
   "outputs": [],
   "source": [
    "#The following chunk compares coordinates of filt spliced probes and three consecutive exons of same gene_id \n",
    "#There is also a condition that the start and end coordinates of those 3 exons should not be same\n",
    "#this is to avoid taking 3 exons of with overlapping coordinates\n",
    "#The output is a list of 87 probes"
   ]
  },
  {
   "cell_type": "code",
   "execution_count": 1,
   "id": "e5b53261",
   "metadata": {},
   "outputs": [],
   "source": [
    "# Define a function to extract the gene IDs from probe_id and exon_id\n",
    "def extract_gene_id(id_string):\n",
    "    return id_string.split('|')[0]\n",
    "\n",
    "# Read exon data and organize it by gene ID\n",
    "exon_data_by_gene = {}\n",
    "with open('/work/FAC/FBM/DBC/cdessim2/default/amaurya/Exons/exons_in_filt_probes', 'r') as exon_file:\n",
    "    for line in exon_file:\n",
    "        chromosome, exon_start, exon_end, exon_id = line.strip().split('\\t')\n",
    "        exon_gene_id = extract_gene_id(exon_id)\n",
    "        exon_start, exon_end = int(exon_start), int(exon_end)\n",
    "\n",
    "        if exon_gene_id in exon_data_by_gene:\n",
    "            exon_data_by_gene[exon_gene_id].append((exon_id, exon_start, exon_end))\n",
    "        else:\n",
    "            exon_data_by_gene[exon_gene_id] = [(exon_id, exon_start, exon_end)]\n",
    "\n",
    "# Open the probe file for reading\n",
    "with open('/work/FAC/FBM/DBC/cdessim2/default/amaurya/Exons/filtered_spliced_probes.tsv', 'r') as probe_file:\n",
    "    probe_lines = probe_file.readlines()\n",
    "\n",
    "# Create a dictionary to store probe information with three consecutive exon_ids\n",
    "probe_data = {}\n",
    "\n",
    "# Iterate through probe data\n",
    "for probe_line in probe_lines:\n",
    "    probe_id, probe_start, probe_end = probe_line.strip().split('\\t')\n",
    "    probe_gene_id = extract_gene_id(probe_id)\n",
    "    probe_start, probe_end = int(probe_start), int(probe_end)\n",
    "\n",
    "    # Check if the gene ID exists in exon data\n",
    "    if probe_gene_id in exon_data_by_gene:\n",
    "        exon_gene_data = exon_data_by_gene[probe_gene_id]\n",
    "\n",
    "        # Iterate through exons associated with the same gene ID\n",
    "        for i in range(len(exon_gene_data) - 2):\n",
    "            exon_id1, exon_start1, exon_end1 = exon_gene_data[i]\n",
    "            exon_id2, exon_start2, exon_end2 = exon_gene_data[i + 1]\n",
    "            exon_id3, exon_start3, exon_end3 = exon_gene_data[i + 2]\n",
    "\n",
    "            if (exon_start1 != exon_start2 and\n",
    "                exon_start2 != exon_start3 and\n",
    "                exon_start1 != exon_start3 and\n",
    "                exon_end1 != exon_end2 and\n",
    "                exon_end2 != exon_end3 and\n",
    "                exon_end1 != exon_end3 and\n",
    "                exon_start1 <= probe_start <= exon_end1 and\n",
    "                probe_start < exon_start2 < exon_end2 and\n",
    "                exon_start3 <= probe_end <= exon_end3 and\n",
    "                \n",
    "                exon_id1 != exon_id2 and\n",
    "                exon_id2 != exon_id3 and\n",
    "                exon_id1 != exon_id3):\n",
    "                probe_data.setdefault(probe_id, set()).add((exon_id1, exon_id2, exon_id3))\n",
    "\n",
    "# Create an output file to save the results\n",
    "output_file = open('/work/FAC/FBM/DBC/cdessim2/default/amaurya/Exons/filt_sp_probes_targeting_3_exons', 'w')\n",
    "\n",
    "# Write the probe and consecutive exon data to the output file\n",
    "for probe_id, exon_sets in probe_data.items():\n",
    "    for exon_set in exon_sets:\n",
    "        exon_ids_str = '\\t'.join(exon_set)\n",
    "        output_file.write(f'{probe_id}\\t{exon_ids_str}\\n')\n",
    "\n",
    "output_file.close()"
   ]
  },
  {
   "cell_type": "code",
   "execution_count": null,
   "id": "3dc93411",
   "metadata": {},
   "outputs": [],
   "source": []
  },
  {
   "cell_type": "code",
   "execution_count": 7,
   "id": "056e03c5",
   "metadata": {},
   "outputs": [],
   "source": []
  },
  {
   "cell_type": "code",
   "execution_count": null,
   "id": "8af3a1dd",
   "metadata": {},
   "outputs": [],
   "source": []
  },
  {
   "cell_type": "markdown",
   "id": "f35b92cb",
   "metadata": {},
   "source": [
    "### A.3 Merge spliced probes that overlap two and three exons"
   ]
  },
  {
   "cell_type": "code",
   "execution_count": 2,
   "id": "b3030587",
   "metadata": {},
   "outputs": [],
   "source": [
    "# Create dictionaries to store probe data from both files\n",
    "probe_data_2exons = {}\n",
    "probe_data_3exons = {}\n",
    "\n",
    "# Read the first file with probes targeting 2 exons\n",
    "with open('/work/FAC/FBM/DBC/cdessim2/default/amaurya/Exons/filt_sp_probes_targeting_2_exons', 'r') as file_2exons:\n",
    "    for line in file_2exons:\n",
    "        probe_id, *exon_ids = line.strip().split('\\t')\n",
    "        probe_data_2exons[probe_id] = exon_ids\n",
    "\n",
    "# Read the second file with probes targeting 3 exons\n",
    "with open('/work/FAC/FBM/DBC/cdessim2/default/amaurya/Exons/filt_sp_probes_targeting_3_exons', 'r') as file_3exons:\n",
    "    for line in file_3exons:\n",
    "        probe_id, *exon_ids = line.strip().split('\\t')\n",
    "        probe_data_3exons[probe_id] = exon_ids\n",
    "\n",
    "# Combine the probe data from both files\n",
    "combined_probe_data = {}\n",
    "\n",
    "# Merge probe data from the first file\n",
    "for probe_id, exon_ids in probe_data_2exons.items():\n",
    "    combined_probe_data.setdefault(probe_id, set()).update(exon_ids)\n",
    "\n",
    "# Merge probe data from the second file\n",
    "for probe_id, exon_ids in probe_data_3exons.items():\n",
    "    combined_probe_data.setdefault(probe_id, set()).update(exon_ids)\n",
    "\n",
    "# save the results\n",
    "output_file = open('/work/FAC/FBM/DBC/cdessim2/default/amaurya/Exons/filt_sp_probes_targeting_exons', 'w')\n",
    "\n",
    "# Write the combined probe and exon data to the output file with unique exon_ids\n",
    "for probe_id, exon_ids in combined_probe_data.items():\n",
    "    exon_ids_str = ';'.join(exon_ids)\n",
    "    output_file.write(f'{probe_id} \\t {exon_ids_str}\\n')\n",
    "\n",
    "output_file.close()\n"
   ]
  },
  {
   "cell_type": "code",
   "execution_count": 10,
   "id": "33cf9b68",
   "metadata": {},
   "outputs": [],
   "source": [
    "#The above output creates a list of filtered spliced probes (7477 out of 7502) that target exons\n",
    "#following chunk is to get  a list of such remaining probes (25)\n",
    "#eg: probe \"VTCN1|98dca25\" has no target because tx in not in \"all_exon_coordinates_with_id\" file (not on ensembl also)"
   ]
  },
  {
   "cell_type": "code",
   "execution_count": 3,
   "id": "2e27e849",
   "metadata": {},
   "outputs": [],
   "source": [
    "#first create a file \"temp\" by \"cut -f 1 filt_sp_probes_targeting_exons > temp\" (to extract first column of probes)\n",
    "#Now compare this list of probes with all the filtered spliced probes and save non-common probes\n",
    "\n",
    "# Read the \"selected_probe\" file and store the probe_ids in a set\n",
    "selected_probe_ids = set()\n",
    "with open(\"/work/FAC/FBM/DBC/cdessim2/default/amaurya/Exons/temp\", \"r\") as selected_file:\n",
    "    for line in selected_file:\n",
    "        probe_id = line.strip()\n",
    "        selected_probe_ids.add(probe_id)\n",
    "\n",
    "# Read the \"all_probe\" file, and if the probe_id is not in the set, write it to the output file\n",
    "with open(\"/work/FAC/FBM/DBC/cdessim2/default/amaurya/Exons/filtered_spliced_probes.tsv\", \"r\") as all_probe_file, open(\"/work/FAC/FBM/DBC/cdessim2/default/amaurya/Exons/filt_sp_probes_having_no_target\", \"w\") as result_file:\n",
    "    for line in all_probe_file:\n",
    "        fields = line.strip().split(\"\\t\")\n",
    "        probe_id = fields[0]\n",
    "        if probe_id not in selected_probe_ids:\n",
    "            result_file.write(line)"
   ]
  },
  {
   "cell_type": "markdown",
   "id": "d7ee25b9",
   "metadata": {},
   "source": [
    "## B. To check for the exons targeted by unspliced probes"
   ]
  },
  {
   "cell_type": "code",
   "execution_count": null,
   "id": "1d871a9f",
   "metadata": {
    "scrolled": false
   },
   "outputs": [],
   "source": [
    "#Goal is to find which probe target which exons. For this:\n",
    "# 1. First, for a probe check if probe_id till first instance of \"|\" matches exon_id till first instance of \"|\"\n",
    "# 2. If it matches then check probe coordinates and coordinates of exons\n",
    "# 3. For that probe and that exon check the following condition:\n",
    "# exon_Start <= probe_Start <= exon_End and exon_Start <= probe_End <= exon_End\n",
    "#If it is true save the probe_id and those two exon_ids in a new output file. Do this for all probes."
   ]
  },
  {
   "cell_type": "code",
   "execution_count": null,
   "id": "237b1167",
   "metadata": {},
   "outputs": [],
   "source": []
  },
  {
   "cell_type": "code",
   "execution_count": 3,
   "id": "d1872aa6",
   "metadata": {},
   "outputs": [],
   "source": [
    "# Define a function to check if a probe matches an exon\n",
    "def probe_matches_exon(probe, exon):\n",
    "    probe_id_parts = probe['probe_id'].split('|')\n",
    "    exon_id_parts = exon['exon_id'].split('|')\n",
    "    \n",
    "    # Check if the first part of the probe_id matches the first part of the exon_id\n",
    "    if probe_id_parts[0] == exon_id_parts[0]:\n",
    "        # Check the condition for overlap\n",
    "        if (exon['exonStart'] <= probe['probeStart'] <= exon['exonEnd'] and\n",
    "            exon['exonStart'] <= probe['probeEnd'] <= exon['exonEnd']):\n",
    "            return True\n",
    "    return False\n",
    "\n",
    "# Read the exon file and store the data in a list\n",
    "exons = []\n",
    "with open('/work/FAC/FBM/DBC/cdessim2/default/amaurya/Exons/exons_in_filt_probes', 'r') as exon_file:\n",
    "    for line in exon_file:\n",
    "        fields = line.strip().split('\\t')\n",
    "        exon = {\n",
    "            'chromosome': fields[0],\n",
    "            'exonStart': int(fields[1]),\n",
    "            'exonEnd': int(fields[2]),\n",
    "            'exon_id': fields[3]\n",
    "        }\n",
    "        exons.append(exon)\n",
    "\n",
    "# Read the probe file, check for matches, and write the output\n",
    "with open('/work/FAC/FBM/DBC/cdessim2/default/amaurya/Exons/filt_unsp_probes_targeting_exons', 'w') as output_file:\n",
    "    with open('/work/FAC/FBM/DBC/cdessim2/default/amaurya/Exons/filtered_unspliced_probes.tsv', 'r') as probe_file:\n",
    "        for line in probe_file:\n",
    "            fields = line.strip().split('\\t')\n",
    "            probe = {\n",
    "                'probe_id': fields[0],\n",
    "                'probeStart': int(fields[1]),\n",
    "                'probeEnd': int(fields[2])\n",
    "            }\n",
    "            \n",
    "            # Check if the probe matches any exon\n",
    "            matching_exons = [exon for exon in exons if probe_matches_exon(probe, exon)]\n",
    "            \n",
    "            if matching_exons:\n",
    "                # Write the probe_id and matching exon_ids to the output file\n",
    "                output_file.write(f'{probe[\"probe_id\"]}\\t{\";\".join([exon[\"exon_id\"] for exon in matching_exons])}\\n')"
   ]
  },
  {
   "cell_type": "code",
   "execution_count": 2,
   "id": "b5681d07",
   "metadata": {},
   "outputs": [],
   "source": [
    "#in the above output, out of 41890 filt_unsp_probes only 41641 probes are there because of several reasons (documented)\n",
    "#eg: some probes target transcripts not present in \"all_exon_coordinates_with_id\" file \n",
    "#for eg: ENSG00000015133|CCDC88C|37b6d1b, f3291e6 target \"ENST00000331194\"\n",
    "\n",
    "#following chunk is to get  a list of remaining probes (249)\n",
    "#first create a file \"temp\" by \"cut -f 1 filt_unsp_probes_targeting_exons > temp\" (to extract first column of probes)\n",
    "#Now compare this list of probes with all the filtered unspliced probes and save non-common probes\n",
    "#grep -Fvf temp filtered_unspliced_probes.tsv | awk -F'\\t' '{print $1}' > filt_unsp_probes_having_no_target"
   ]
  },
  {
   "cell_type": "code",
   "execution_count": null,
   "id": "24b4a731",
   "metadata": {},
   "outputs": [],
   "source": []
  },
  {
   "cell_type": "markdown",
   "id": "fd25487d",
   "metadata": {},
   "source": [
    "## C. To check for the exons targeted by misidentified probes"
   ]
  },
  {
   "cell_type": "code",
   "execution_count": null,
   "id": "6a9e6ab0",
   "metadata": {},
   "outputs": [],
   "source": []
  },
  {
   "cell_type": "code",
   "execution_count": null,
   "id": "2a64bba9",
   "metadata": {},
   "outputs": [],
   "source": [
    "#Misidentified Probes (which belong to unsp category in 10x list, diff of probe coordinates is more than 50bp)"
   ]
  },
  {
   "cell_type": "code",
   "execution_count": 5,
   "id": "25dd8869",
   "metadata": {},
   "outputs": [],
   "source": [
    "#The following chunk compares coordinates of filt misid probes and pair of exons of same gene_id \n",
    "\n",
    "# Define a function to extract the gene IDs from probe_id and exon_id\n",
    "def extract_gene_id(id_string):\n",
    "    return id_string.split('|')[0]\n",
    "\n",
    "# Read exon data and organize it by gene ID\n",
    "exon_data_by_gene = {}\n",
    "with open('/work/FAC/FBM/DBC/cdessim2/default/amaurya/Exons/exons_in_filt_probes', 'r') as exon_file:\n",
    "    for line in exon_file:\n",
    "        chromosome, exon_start, exon_end, exon_id = line.strip().split('\\t')\n",
    "        exon_gene_id = extract_gene_id(exon_id)\n",
    "        exon_start, exon_end = int(exon_start), int(exon_end)\n",
    "\n",
    "        if exon_gene_id in exon_data_by_gene:\n",
    "            exon_data_by_gene[exon_gene_id].append((exon_id, exon_start, exon_end))\n",
    "        else:\n",
    "            exon_data_by_gene[exon_gene_id] = [(exon_id, exon_start, exon_end)]\n",
    "\n",
    "# Open the probe file for reading\n",
    "with open('/work/FAC/FBM/DBC/cdessim2/default/amaurya/Exons/filtered_misidentified_probes.tsv', 'r') as probe_file:\n",
    "    probe_lines = probe_file.readlines()\n",
    "\n",
    "# Create a dictionary to store probe information with exon_ids\n",
    "probe_data = {}\n",
    "\n",
    "# Iterate through probe data\n",
    "for probe_line in probe_lines:\n",
    "    probe_id, probe_start, probe_end = probe_line.strip().split('\\t')\n",
    "    probe_gene_id = extract_gene_id(probe_id)\n",
    "    probe_start, probe_end = int(probe_start), int(probe_end)\n",
    "\n",
    "    # Create a list to store exon_ids for the current probe\n",
    "    exon_ids = set()\n",
    "\n",
    "    # Check if the gene ID exists in exon data\n",
    "    if probe_gene_id in exon_data_by_gene:\n",
    "        exon_gene_data = exon_data_by_gene[probe_gene_id]\n",
    "\n",
    "        # Iterate through exons associated with the same gene ID\n",
    "        for i in range(len(exon_gene_data)):\n",
    "            for j in range(i + 1, len(exon_gene_data)):\n",
    "                exon_id1, exon_start1, exon_end1 = exon_gene_data[i]\n",
    "                exon_id2, exon_start2, exon_end2 = exon_gene_data[j]\n",
    "\n",
    "                if (exon_start1 <= probe_start <= exon_end1 and exon_start2 <= probe_end <= exon_end2) or \\\n",
    "                   (exon_start2 <= probe_start <= exon_end2 and exon_start1 <= probe_end <= exon_end1):\n",
    "                    exon_ids.add(exon_id1)\n",
    "                    exon_ids.add(exon_id2)\n",
    "\n",
    "    # Add the exon_ids to the probe_data dictionary\n",
    "    if exon_ids:\n",
    "        probe_data[probe_id] = list(exon_ids)\n",
    "\n",
    "# Create an output file to save the results\n",
    "output_file = open('/work/FAC/FBM/DBC/cdessim2/default/amaurya/Exons/filt_misid_probes_targeting_exons', 'w')\n",
    "\n",
    "# Write the merged probe and exon data to the output file\n",
    "for probe_id, exon_ids in probe_data.items():\n",
    "    exon_ids_str = ';'.join(exon_ids)\n",
    "    output_file.write(f'{probe_id}\\t{exon_ids_str}\\n')\n",
    "\n",
    "output_file.close()"
   ]
  },
  {
   "cell_type": "code",
   "execution_count": null,
   "id": "ec8a5d49",
   "metadata": {},
   "outputs": [],
   "source": [
    "#in the above output, out of 4112 filtered_misidentified_probes only 4101 probes are there because of several reasons (documented)\n",
    "#follow steps below to get  a list of remaining probes (11)\n",
    "#first create a file \"temp\" by \"cut -f 1 filt_misid_probes_targeting_exons > temp\" (to extract first column of probes)\n",
    "#Now compare this list of probes with all the filtered misid probes and save non-common probes\n",
    "#grep -Fvf temp filtered_misidentified_probes.tsv | awk -F'\\t' '{print $1}' > filt_misid_probes_having_no_target\n",
    "#eg: TRIM16L|b3e755f, SIGLEC5|250bb03, VPS72|abf5189 (tx not present in \"all_exon_coordinates_with_id\" file)"
   ]
  },
  {
   "cell_type": "code",
   "execution_count": 2,
   "id": "c1cb3112",
   "metadata": {},
   "outputs": [],
   "source": [
    "##########******************DONOT***RUN********************########\n",
    "#The following chunk compares coordinates of filt misid probes and two consecutive exons of same gene_id \n",
    "\n",
    "# # Define a function to extract the gene IDs from probe_id and exon_id\n",
    "# def extract_gene_id(id_string):\n",
    "#     return id_string.split('|')[0]\n",
    "\n",
    "# # Read exon data into a list\n",
    "# exon_data = []\n",
    "# with open('/work/FAC/FBM/DBC/cdessim2/default/amaurya/Exons/exons_in_filt_probes', 'r') as exon_file:\n",
    "#     for line in exon_file:\n",
    "#         exon_data.append(line.strip().split('\\t'))\n",
    "\n",
    "# # Open the probe file for reading\n",
    "# with open('/work/FAC/FBM/DBC/cdessim2/default/amaurya/Exons/filtered_misidentified_probes.tsv', 'r') as probe_file:\n",
    "#     probe_lines = probe_file.readlines()\n",
    "\n",
    "# # Create a dictionary to store probe information with exon_ids\n",
    "# probe_data = {}\n",
    "\n",
    "# # Iterate through probe data\n",
    "# for probe_line in probe_lines:\n",
    "#     probe_id, probe_start, probe_end = probe_line.strip().split('\\t')\n",
    "#     probe_gene_id = extract_gene_id(probe_id)\n",
    "\n",
    "#     # Create a list to store exon_ids for the current probe\n",
    "#     exon_ids = []\n",
    "\n",
    "#     # Iterate through exon data\n",
    "#     for i in range(len(exon_data)):\n",
    "#         chromosome, exon_start, exon_end, exon_id = exon_data[i]\n",
    "#         exon_gene_id = extract_gene_id(exon_id)\n",
    "\n",
    "#         # Check if the gene IDs match\n",
    "#         if probe_gene_id == exon_gene_id:\n",
    "#             exon_start, exon_end = int(exon_start), int(exon_end)\n",
    "#             probe_start, probe_end = int(probe_start), int(probe_end)\n",
    "\n",
    "#             # Check if the probe coordinates match the conditions\n",
    "#             if i < len(exon_data) - 1:\n",
    "#                 next_chromosome, next_exon_start, next_exon_end, next_exon_id = exon_data[i + 1]\n",
    "#                 next_exon_start, next_exon_end = int(next_exon_start), int(next_exon_end)\n",
    "\n",
    "#                 if exon_start <= probe_start <= exon_end and next_exon_start <= probe_end <= next_exon_end:\n",
    "#                     exon_ids.extend([exon_id, next_exon_id])\n",
    "\n",
    "#     # Add the exon_ids to the probe_data dictionary\n",
    "#     probe_data[probe_id] = exon_ids\n",
    "\n",
    "# # Create an output file to save the results\n",
    "# output_file = open('/work/FAC/FBM/DBC/cdessim2/default/amaurya/Exons/filt_misid_probes_targeting_exons', 'w')\n",
    "\n",
    "# # Write the merged probe and exon data to the output file\n",
    "# for probe_id, exon_ids in probe_data.items():\n",
    "#     if exon_ids:\n",
    "#         exon_ids_str = ';'.join(exon_ids)\n",
    "#         output_file.write(f'{probe_id}\\t{exon_ids_str}\\n')\n",
    "\n",
    "# output_file.close()\n",
    "#in the above output, out of 4112 filtered_misidentified_probes only 4070 probes are there because of several reasons (documented)"
   ]
  },
  {
   "cell_type": "code",
   "execution_count": null,
   "id": "2034377b",
   "metadata": {},
   "outputs": [],
   "source": []
  },
  {
   "cell_type": "markdown",
   "id": "cc701745",
   "metadata": {},
   "source": [
    "## D. All filtered probe target exons"
   ]
  },
  {
   "cell_type": "code",
   "execution_count": null,
   "id": "087ba8fd",
   "metadata": {},
   "outputs": [],
   "source": [
    "#Now, goal is to prepare a single file having all the filtered probes and their targeted exons"
   ]
  },
  {
   "cell_type": "code",
   "execution_count": 6,
   "id": "e6db12cc",
   "metadata": {},
   "outputs": [
    {
     "name": "stdout",
     "output_type": "stream",
     "text": [
      "Merged content written to /work/FAC/FBM/DBC/cdessim2/default/amaurya/Exons/ALL_filt_probes_targeting_exons\n"
     ]
    }
   ],
   "source": [
    "# Initialize a dictionary to store probe IDs and their associated exon IDs\n",
    "probe_exon_dict = {}\n",
    "\n",
    "# List of file paths\n",
    "file_paths = ['/work/FAC/FBM/DBC/cdessim2/default/amaurya/Exons/filt_sp_probes_targeting_exons', \n",
    "              '/work/FAC/FBM/DBC/cdessim2/default/amaurya/Exons/filt_unsp_probes_targeting_exons',\n",
    "              '/work/FAC/FBM/DBC/cdessim2/default/amaurya/Exons/filt_misid_probes_targeting_exons']\n",
    "\n",
    "# Loop through the files and merge the contents\n",
    "for file_path in file_paths:\n",
    "    with open(file_path, 'r') as file:\n",
    "        for line in file:\n",
    "            fields = line.strip().split('\\t')\n",
    "            probe_id = fields[0]\n",
    "            exon_ids = fields[1].split(';')\n",
    "            if probe_id in probe_exon_dict:\n",
    "                probe_exon_dict[probe_id].extend(exon_ids)\n",
    "            else:\n",
    "                probe_exon_dict[probe_id] = exon_ids\n",
    "\n",
    "# Write the merged content to an output file\n",
    "output_file = '/work/FAC/FBM/DBC/cdessim2/default/amaurya/Exons/ALL_filt_probes_targeting_exons'\n",
    "with open(output_file, 'w') as out_file:\n",
    "    for probe_id, exon_ids in probe_exon_dict.items():\n",
    "        unique_exon_ids = ';'.join(set(exon_ids))\n",
    "        out_file.write(f\"{probe_id}\\t{unique_exon_ids}\\n\")"
   ]
  },
  {
   "cell_type": "code",
   "execution_count": null,
   "id": "9d2a3c03",
   "metadata": {},
   "outputs": [],
   "source": [
    "#The above output contains list of all filtered probes and their target exons\n",
    "#Out of 53504 probes, we found targets for only 53219 probes"
   ]
  },
  {
   "cell_type": "code",
   "execution_count": null,
   "id": "735032b4",
   "metadata": {},
   "outputs": [],
   "source": [
    "#The above output file can be converted from ; separated to \\t separated exon_ids\n",
    "########  sed 's/;/\\t/g' ALL_filt_probes_targeting_exons > tabsep_ALL_filt_probes_targeting_exons  #########"
   ]
  },
  {
   "cell_type": "code",
   "execution_count": null,
   "id": "06a5761d",
   "metadata": {},
   "outputs": [],
   "source": [
    "#Some lines have multiple exon_ids separated by a \";\".\n",
    "#To count how many unique exon_ids are there in total in \"ALL_filt_probes_targeting_exons\" file:\n",
    "\n",
    "#cut -f 2 file.txt | tr ';' '\\n' | sort | uniq | wc -l\n",
    "#OR\n",
    "#awk -F'\\t' '{split($2, exon_ids, \";\"); for (i in exon_ids) count[exon_ids[i]]++} END {print \"Total unique exon_ids:\", length(count)}' file.txt"
   ]
  },
  {
   "cell_type": "code",
   "execution_count": null,
   "id": "b554d123",
   "metadata": {},
   "outputs": [],
   "source": [
    "#OR\n",
    "# Create a set to store unique exon_ids\n",
    "# unique_exon_ids = set()\n",
    "\n",
    "# # Open the file and read line by line\n",
    "# with open('file.txt', 'r') as file:\n",
    "#     for line in file:\n",
    "#         # Split the line by tab and get the exon_ids\n",
    "#         fields = line.strip().split('\\t')\n",
    "#         exon_ids = fields[1].split(';')\n",
    "\n",
    "#         # Add the exon_ids to the set\n",
    "#         unique_exon_ids.update(exon_ids)\n",
    "\n",
    "# # Count the number of unique exon_ids\n",
    "# count = len(unique_exon_ids)\n",
    "# print(\"Total unique exon_ids:\", count)"
   ]
  },
  {
   "cell_type": "code",
   "execution_count": null,
   "id": "fefc6379",
   "metadata": {},
   "outputs": [],
   "source": []
  }
 ],
 "metadata": {
  "kernelspec": {
   "display_name": "Python 3",
   "language": "python",
   "name": "python3"
  },
  "language_info": {
   "codemirror_mode": {
    "name": "ipython",
    "version": 3
   },
   "file_extension": ".py",
   "mimetype": "text/x-python",
   "name": "python",
   "nbconvert_exporter": "python",
   "pygments_lexer": "ipython3",
   "version": "3.9.15"
  }
 },
 "nbformat": 4,
 "nbformat_minor": 5
}
