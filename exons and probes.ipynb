{
 "cells": [
  {
   "cell_type": "markdown",
   "id": "fea34cab",
   "metadata": {},
   "source": [
    "## Preparing the probes and exon files"
   ]
  },
  {
   "cell_type": "markdown",
   "id": "38f75130",
   "metadata": {},
   "source": [
    "### Find out list of individual genes and transcripts present in filtered probes"
   ]
  },
  {
   "cell_type": "code",
   "execution_count": 4,
   "id": "012ec63a",
   "metadata": {},
   "outputs": [],
   "source": [
    "#First, make a file \"gene_tx\" having two columns: probe_id and ; separated transcripts (copied from FILT_probe_file two fields)\n",
    "#NOTE: Take only filtered probes (sp+unsp) in \"gene_tx\" file\n",
    "#awk 'BEGIN {FS=OFS=\"\\t\"} {sub(/\\|[^|]*$/, \"\", $1); print}' gene_tx > gene_tx2 (this will remove probe_hash after second \"|\")"
   ]
  },
  {
   "cell_type": "code",
   "execution_count": null,
   "id": "fbba7fb3",
   "metadata": {},
   "outputs": [],
   "source": [
    "#gene_tx was deleted after above command\n",
    "#In the \"gene_tx2\" remove the duplicate lines "
   ]
  },
  {
   "cell_type": "code",
   "execution_count": 2,
   "id": "31eed524",
   "metadata": {},
   "outputs": [],
   "source": [
    "unique_lines = set()\n",
    "\n",
    "with open(\"/work/FAC/FBM/DBC/cdessim2/default/amaurya/Exons/gene_tx2\", \"r\") as infile:\n",
    "    for line in infile:\n",
    "        gene_id, transcript_id = line.strip().split(\"\\t\")\n",
    "        unique_lines.add((gene_id, transcript_id))\n",
    "\n",
    "with open(\"/work/FAC/FBM/DBC/cdessim2/default/amaurya/Exons/gene_tx3\", \"w\") as outfile:\n",
    "    for gene_id, transcript_id in unique_lines:\n",
    "        outfile.write(f\"{gene_id}\\t{transcript_id}\\n\")\n",
    "\n",
    "#After removal of duplicate lines, the number of lines are 20290 because some genes may have multiple lines for diff tx "
   ]
  },
  {
   "cell_type": "code",
   "execution_count": null,
   "id": "017b105f",
   "metadata": {},
   "outputs": [],
   "source": [
    "#Now we want to separate the tx id such that there is one tx per line\n",
    "#the code makes a new entry for ; separated transcripts and removes duplicates\n",
    "#input file was later deleted from folder, only the output file is saved"
   ]
  },
  {
   "cell_type": "code",
   "execution_count": 4,
   "id": "1a13c2af",
   "metadata": {},
   "outputs": [],
   "source": [
    "# Read the input file\n",
    "with open('/work/FAC/FBM/DBC/cdessim2/default/amaurya/Exons/gene_tx3', 'r') as infile:\n",
    "    lines = infile.readlines()\n",
    "\n",
    "# Create a set to store unique lines\n",
    "unique_lines = set()\n",
    "\n",
    "# Process each line and split it by the ';' delimiter\n",
    "for line in lines:\n",
    "    gene_id, transcript_ids = line.strip().split('\\t')\n",
    "    transcript_ids = transcript_ids.split(';')\n",
    "    \n",
    "    for transcript_id in transcript_ids:\n",
    "        # Create a new line with the gene_id and the transcript_id\n",
    "        new_line = f'{gene_id}\\t{transcript_id}'\n",
    "        unique_lines.add(new_line)\n",
    "\n",
    "# Write the unique lines to the output file\n",
    "with open('/work/FAC/FBM/DBC/cdessim2/default/amaurya/Exons/gene_tx_id_in_filt_probes', 'w') as outfile:\n",
    "    for line in unique_lines:\n",
    "        outfile.write(line + '\\n')"
   ]
  },
  {
   "cell_type": "code",
   "execution_count": null,
   "id": "d8b3dcde",
   "metadata": {},
   "outputs": [],
   "source": [
    "#The above output file contains gene_ids and their corresponding tx_ids from the filt_probes file.\n",
    "#so 53817 lines (one for each transcript)"
   ]
  },
  {
   "cell_type": "code",
   "execution_count": 3,
   "id": "726e8385",
   "metadata": {},
   "outputs": [],
   "source": [
    "#A gene may have many transcripts. But some of those transcripts may not be present in filtered probes list.\n",
    "#file \"all_genes_transcript_ids.tsv\" contains all transcripts (100525) of all genes (46639) as in transcripts_info.csv file\n",
    "#file \"tx_in_filt_probes\" contains only those transcripts (53817) present in filt probes list"
   ]
  },
  {
   "cell_type": "code",
   "execution_count": null,
   "id": "c63fe80e",
   "metadata": {},
   "outputs": [],
   "source": [
    "#There are 67 transcripts that are present in filt_probes list but not present in transcripts_info.csv file\n",
    "#these are in the file \"tx_present_in_filt_probes_but_not_in_txinfo_file\"\n",
    "#so for probes of such tx we do not have any matching exons (for eg: ENST00000515828, ENST00000237449)"
   ]
  },
  {
   "cell_type": "code",
   "execution_count": null,
   "id": "9cae5f84",
   "metadata": {},
   "outputs": [],
   "source": []
  },
  {
   "cell_type": "markdown",
   "id": "e61196de",
   "metadata": {},
   "source": [
    "### pre-processing of \"all_exon_coordinates_with_id\""
   ]
  },
  {
   "cell_type": "code",
   "execution_count": null,
   "id": "82402acd",
   "metadata": {},
   "outputs": [],
   "source": [
    "#\"all_exon_coordinates_with_id\" file contains exons of all the transcripts. But we need to keep only those exons which\n",
    "#belong to transcripts present in filtered probes. This is done in pre-processing step"
   ]
  },
  {
   "cell_type": "code",
   "execution_count": null,
   "id": "e0c929f6",
   "metadata": {},
   "outputs": [],
   "source": [
    "#First we need to edit exon_id to tx_id by removing everything after a \".\""
   ]
  },
  {
   "cell_type": "code",
   "execution_count": null,
   "id": "b3899341",
   "metadata": {},
   "outputs": [],
   "source": [
    "#cut -f 1,2,3,4 all_exon_coordinates_with_id > output\n",
    "# awk 'BEGIN {FS=OFS=\"\\t\"} {sub(/\\..*/, \"\", $4)}1' output > output2  (this will crop the exon_id after first \".\")"
   ]
  },
  {
   "cell_type": "code",
   "execution_count": null,
   "id": "75bd38b7",
   "metadata": {},
   "outputs": [],
   "source": []
  },
  {
   "cell_type": "markdown",
   "id": "ceb3b455",
   "metadata": {},
   "source": [
    "### create new exon_ids"
   ]
  },
  {
   "cell_type": "code",
   "execution_count": null,
   "id": "e654ccd8",
   "metadata": {},
   "outputs": [],
   "source": [
    "#\"all_exon_coordinates_with_id\" file contains many cases like - one exon belonging to many transcripts of same gene\n",
    "#so there are duplicate exons (by coordinates)\n",
    "#same coordinates but different exon_id, because they belong to different transcripts\n",
    "#so we need to avoid this in hgtable"
   ]
  },
  {
   "cell_type": "code",
   "execution_count": null,
   "id": "ccb54c4c",
   "metadata": {},
   "outputs": [],
   "source": []
  },
  {
   "cell_type": "code",
   "execution_count": 7,
   "id": "9ca8942e",
   "metadata": {},
   "outputs": [
    {
     "name": "stdout",
     "output_type": "stream",
     "text": [
      "Replacement, formatting, and filtering complete.\n"
     ]
    }
   ],
   "source": [
    "# Define a dictionary to store the mapping between transcript_id and gene_id\n",
    "transcript_to_gene = {}\n",
    "\n",
    "# Read the second file (transcript_id to gene_id mapping)\n",
    "with open(\"/work/FAC/FBM/DBC/cdessim2/default/amaurya/Exons/gene_tx_id_in_filt_probes\", \"r\") as file:\n",
    "    for line in file:\n",
    "        parts = line.strip().split(\"\\t\")\n",
    "        if len(parts) == 2:\n",
    "            gene_id, transcript_id = parts\n",
    "            transcript_to_gene[transcript_id] = gene_id\n",
    "\n",
    "# Read the first file and replace transcript_id with gene_id\n",
    "with open(\"/work/FAC/FBM/DBC/cdessim2/default/amaurya/Exons/output2\", \"r\") as file:\n",
    "    lines = file.readlines()\n",
    "\n",
    "# Create a new file for the output\n",
    "with open(\"/work/FAC/FBM/DBC/cdessim2/default/amaurya/Exons/output_file\", \"w\") as output_file:\n",
    "    for line in lines:\n",
    "        fields = line.strip().split(\"\\t\")\n",
    "        if len(fields) == 4:\n",
    "            transcript_id = fields[3]\n",
    "            if transcript_id in transcript_to_gene:\n",
    "                fields[3] = transcript_to_gene[transcript_id]\n",
    "\n",
    "                # Edit the gene_id format\n",
    "                gene_id = fields[3]\n",
    "                fields[3] = f\"{gene_id}|{fields[1]}-{fields[2]}\"\n",
    "                \n",
    "                new_line = \"\\t\".join(fields) + \"\\n\"\n",
    "\n",
    "                if \"ENST00\" not in new_line:  # Check if \"ENST00\" is not present in the line\n",
    "                    output_file.write(new_line)\n",
    "\n",
    "print(\"Replacement, formatting, and filtering complete.\")"
   ]
  },
  {
   "cell_type": "code",
   "execution_count": null,
   "id": "2969dc70",
   "metadata": {},
   "outputs": [],
   "source": [
    "#The above output has 561361 lines\n",
    "#The original all_exon_coordinates_with_id file contains transcript_ids so if an exon is present in many transcripts\n",
    "#then there are repeated lines of same exon coordinates (those are removed)\n",
    "#To remove the duplicate lines\n",
    "# awk -F'\\t' '!seen[$0]++' output_file > exons_in_filt_probes\n",
    "# Now there are 261185 lines\n",
    "#NOTE: these exons belong to all tx (53817) and genes (18085) present in the filtered probes list (sp+unsp)\n",
    "#this file can be used as an exon_hgtable"
   ]
  },
  {
   "cell_type": "markdown",
   "id": "7482adb1",
   "metadata": {},
   "source": [
    "### post-processing to get final hgtable"
   ]
  },
  {
   "cell_type": "code",
   "execution_count": null,
   "id": "f4910ba8",
   "metadata": {},
   "outputs": [],
   "source": [
    "#the file \"exons_in_filt_probes\" created above during new exon_ids can be used as an exon_hgtable"
   ]
  },
  {
   "cell_type": "code",
   "execution_count": null,
   "id": "bc5c99a3",
   "metadata": {},
   "outputs": [],
   "source": []
  }
 ],
 "metadata": {
  "kernelspec": {
   "display_name": "Python 3",
   "language": "python",
   "name": "python3"
  },
  "language_info": {
   "codemirror_mode": {
    "name": "ipython",
    "version": 3
   },
   "file_extension": ".py",
   "mimetype": "text/x-python",
   "name": "python",
   "nbconvert_exporter": "python",
   "pygments_lexer": "ipython3",
   "version": "3.9.15"
  }
 },
 "nbformat": 4,
 "nbformat_minor": 5
}
